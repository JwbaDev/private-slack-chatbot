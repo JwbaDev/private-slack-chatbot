{
 "cells": [
  {
   "cell_type": "markdown",
   "metadata": {},
   "source": [
    "## 1. Document Loading & Splitting"
   ]
  },
  {
   "cell_type": "code",
   "execution_count": 32,
   "metadata": {},
   "outputs": [],
   "source": [
    "from langchain.document_loaders import TextLoader\n",
    "loader = TextLoader(\"content_test.txt\")\n",
    "pages = loader.load() #list of docs"
   ]
  },
  {
   "cell_type": "code",
   "execution_count": 33,
   "metadata": {},
   "outputs": [
    {
     "data": {
      "text/plain": "langchain.schema.document.Document"
     },
     "execution_count": 33,
     "metadata": {},
     "output_type": "execute_result"
    }
   ],
   "source": [
    "type(pages[0])"
   ]
  },
  {
   "cell_type": "code",
   "execution_count": 3,
   "metadata": {},
   "outputs": [
    {
     "data": {
      "text/plain": "1"
     },
     "execution_count": 3,
     "metadata": {},
     "output_type": "execute_result"
    }
   ],
   "source": [
    "len(pages)"
   ]
  },
  {
   "cell_type": "code",
   "execution_count": 34,
   "metadata": {},
   "outputs": [
    {
     "data": {
      "text/plain": "'Page Title: Recognition Program - CodiStars Content: The CodiStars awards program are awards from you for you - for people who stand out in the company in a special way. Thanks to it, you can appreciate people who actively represent the activities and thus deserve an award. Your voice has power, so we encourage you to get involved. Remember that the CodiStars program is for employees and associates only, therefore you cannot award titles to people who are no longer working at CodiLime. The award'"
     },
     "execution_count": 34,
     "metadata": {},
     "output_type": "execute_result"
    }
   ],
   "source": [
    "page = pages[0]\n",
    "page.page_content[:500]"
   ]
  },
  {
   "cell_type": "code",
   "execution_count": 35,
   "metadata": {},
   "outputs": [
    {
     "data": {
      "text/plain": "{'source': 'content_test.txt'}"
     },
     "execution_count": 35,
     "metadata": {},
     "output_type": "execute_result"
    }
   ],
   "source": [
    "page.metadata"
   ]
  },
  {
   "cell_type": "code",
   "execution_count": 36,
   "metadata": {},
   "outputs": [],
   "source": [
    "from langchain.text_splitter import RecursiveCharacterTextSplitter"
   ]
  },
  {
   "cell_type": "markdown",
   "metadata": {},
   "source": [
    "![alternative text](obrazki/splits.png)\n"
   ]
  },
  {
   "cell_type": "code",
   "execution_count": 40,
   "metadata": {},
   "outputs": [],
   "source": [
    "chunk_size = 26\n",
    "chunk_overlap = 4"
   ]
  },
  {
   "cell_type": "markdown",
   "metadata": {},
   "source": [
    "![alternative text](obrazki/chunki.png)"
   ]
  },
  {
   "cell_type": "code",
   "execution_count": 41,
   "metadata": {},
   "outputs": [],
   "source": [
    "r_splitter = RecursiveCharacterTextSplitter(\n",
    "    chunk_size=chunk_size,\n",
    "    chunk_overlap=chunk_overlap\n",
    ")"
   ]
  },
  {
   "cell_type": "code",
   "execution_count": 42,
   "metadata": {},
   "outputs": [
    {
     "data": {
      "text/plain": "['abcdefghijklmnopqrstuvwxyz', 'wxyzabcdefg']"
     },
     "execution_count": 42,
     "metadata": {},
     "output_type": "execute_result"
    }
   ],
   "source": [
    "text1 = 'abcdefghijklmnopqrstuvwxyzabcdefg'\n",
    "r_splitter.split_text(text1)"
   ]
  },
  {
   "cell_type": "markdown",
   "metadata": {},
   "source": [
    "## 2. Vectorstores & Embeddings"
   ]
  },
  {
   "cell_type": "code",
   "execution_count": 11,
   "metadata": {},
   "outputs": [],
   "source": [
    "chunk_size = 1500\n",
    "chunk_overlap = 150"
   ]
  },
  {
   "cell_type": "code",
   "execution_count": 12,
   "metadata": {},
   "outputs": [],
   "source": [
    "r_splitter = RecursiveCharacterTextSplitter(\n",
    "    chunk_size=chunk_size,\n",
    "    chunk_overlap=chunk_overlap\n",
    ")\n"
   ]
  },
  {
   "cell_type": "code",
   "execution_count": 13,
   "metadata": {},
   "outputs": [],
   "source": [
    "splits = r_splitter.split_documents(pages)"
   ]
  },
  {
   "cell_type": "code",
   "execution_count": 14,
   "metadata": {},
   "outputs": [],
   "source": [
    "#splits"
   ]
  },
  {
   "cell_type": "code",
   "execution_count": 15,
   "metadata": {},
   "outputs": [
    {
     "data": {
      "text/plain": "107"
     },
     "execution_count": 15,
     "metadata": {},
     "output_type": "execute_result"
    }
   ],
   "source": [
    "len(splits)"
   ]
  },
  {
   "cell_type": "markdown",
   "metadata": {},
   "source": [
    "[embedding model](https://huggingface.co/sentence-transformers/all-MiniLM-L6-v2)"
   ]
  },
  {
   "cell_type": "code",
   "execution_count": 16,
   "metadata": {},
   "outputs": [
    {
     "name": "stderr",
     "output_type": "stream",
     "text": [
      "/Users/katarzynahewelt/Desktop/chatbot/venv/lib/python3.11/site-packages/InstructorEmbedding/instructor.py:7: TqdmExperimentalWarning: Using `tqdm.autonotebook.tqdm` in notebook mode. Use `tqdm.tqdm` instead to force console mode (e.g. in jupyter console)\n",
      "  from tqdm.autonotebook import trange\n"
     ]
    },
    {
     "name": "stdout",
     "output_type": "stream",
     "text": [
      "load INSTRUCTOR_Transformer\n",
      "max_seq_length  512\n"
     ]
    }
   ],
   "source": [
    "from langchain.embeddings import HuggingFaceInstructEmbeddings\n",
    "\n",
    "embeddings = HuggingFaceInstructEmbeddings(model_name=\"hkunlp/instructor-xl\")"
   ]
  },
  {
   "cell_type": "code",
   "execution_count": 17,
   "metadata": {},
   "outputs": [],
   "source": [
    "from langchain.vectorstores import Chroma"
   ]
  },
  {
   "cell_type": "code",
   "execution_count": 18,
   "metadata": {},
   "outputs": [],
   "source": [
    "persist_directory = 'docs/chroma/'"
   ]
  },
  {
   "cell_type": "code",
   "execution_count": 19,
   "metadata": {},
   "outputs": [],
   "source": [
    "!rm -rf ./docs/chroma  # remove old database files if any"
   ]
  },
  {
   "cell_type": "code",
   "execution_count": 20,
   "metadata": {},
   "outputs": [
    {
     "name": "stderr",
     "output_type": "stream",
     "text": [
      "Using embedded DuckDB with persistence: data will be stored in: docs/chroma/\n"
     ]
    }
   ],
   "source": [
    "vectordb = Chroma.from_documents(\n",
    "    documents=splits,\n",
    "    embedding=embeddings,\n",
    "    persist_directory=persist_directory\n",
    ")"
   ]
  },
  {
   "cell_type": "code",
   "execution_count": 21,
   "metadata": {},
   "outputs": [
    {
     "name": "stdout",
     "output_type": "stream",
     "text": [
      "107\n"
     ]
    }
   ],
   "source": [
    "print(vectordb._collection.count())"
   ]
  },
  {
   "cell_type": "code",
   "execution_count": 22,
   "metadata": {},
   "outputs": [],
   "source": [
    "question = \"What is CodiStars Program?\""
   ]
  },
  {
   "cell_type": "code",
   "execution_count": 23,
   "metadata": {},
   "outputs": [],
   "source": [
    "docs = vectordb.similarity_search(question,k=3)"
   ]
  },
  {
   "cell_type": "code",
   "execution_count": 24,
   "metadata": {},
   "outputs": [
    {
     "data": {
      "text/plain": "[Document(page_content=\"Page Title: Recognition Program - CodiStars Content: The CodiStars awards program are awards from you for you - for people who stand out in the company in a special way. Thanks to it, you can appreciate people who actively represent the activities and thus deserve an award. Your voice has power, so we encourage you to get involved. Remember that the CodiStars program is for employees and associates only, therefore you cannot award titles to people who are no longer working at CodiLime. The awards are given in 3 categories that relate directly to our values: Team Up To Win - Team Player Disrupt category is Grow - Improver Act to Deliver category - Do-er category Below you will find a detailed description of each category: Team Player - a distinction for a person whose actions have positively influenced contacts between employees and the mood in teams. It can be organizing integration, helping a teammate, or engaging in additional activities such as volunteering. Improver - a distinction for a person whose actions improve internal processes in the company and the team. He often proposes various solutions to improve teamwork and the company itself. He can fix things in the project that don't work, or organize channels on slack. Do-er - a distinction for a person who delivers. He is someone who performs the tasks entrusted to him well and can save many fires in the project. He participates in the preparation of bottles, tech talks and webinars. He willingly shares his knowledge\", metadata={'source': 'content_test.txt'}),\n Document(page_content=\"recognize individuals who actively represent activities and thus deserve to be rewarded. Your voice has power, so we encourage you to get involved. Remember that the CodiStars program is for employees only, so titles cannot be awarded to people who no longer work in CodiLime.Awards are given in 3 categories that relate directly to our values:Team Up To Win - the Team Player categoryDisrupt to Grow - the Improver category\\xa0Act to Deliver - the Do-er category\\xa0Below you will find detailed characteristics of each category:\\xa0Team Player - an award for a person whose actions have influenced/influenced positively the contact between employees and the mood in teams. This could be organizing integration, helping a teammate, or engaging in additional activities such as volunteering. Improver - honors a person whose actions improve the internal company and team processes. Often proposes various solutions to improve teamwork, as well as the company itself. They may correct things in the project that don't work, or organize channels on Slack. Do-er - a distinction for a person who delivers. This is someone who carries out the tasks assigned to him well and can save more than one fire in the project. They participate in the preparation of lightning talks, tech talks, or webinars. They are eager to share their knowledge with others. This year we are also changing the submission formula to make it easier for you to participate in the whole process. The formula was developed by the HR\", metadata={'source': 'content_test.txt'}),\n Document(page_content='a month, you can vote again for the person you voted for earlier. To check who you voted for, you can use the /check-votes command. In the window you will see a list of who and in what amounts you have awarded points. To check how many votes you have received so far, you can use the /check-points command. The window will show you how many points you have received, but you will not see who voted for you. If you need a reminder about the rules of the competition, you can use the /about command, which will remind you of the most important rules of the Recognition Program. The first prize distribution in this formula will take place at the communication meeting in January 2023. Points received from October 2022 to the end of December 2022 will be taken into account. One person can win only in one category - if he receives the most points in two or three categories only wins the one with the most points. In the event of a tie, more than one person may receive the prize. In a situation where no entries are received in one of the categories, it will not be taken into account during the award ceremony. In unusual situations, the HR department together with the DDoS group will be decisive. [ENG]The CodiStars recognition program is an award from you to you - for people who stand out in a special way in the company. It allows you to recognize individuals who actively represent activities and thus deserve to be rewarded. Your voice has power, so we encourage you to get involved.', metadata={'source': 'content_test.txt'})]"
     },
     "execution_count": 24,
     "metadata": {},
     "output_type": "execute_result"
    }
   ],
   "source": [
    "docs"
   ]
  },
  {
   "cell_type": "code",
   "execution_count": 31,
   "metadata": {},
   "outputs": [
    {
     "data": {
      "text/plain": [
       "\"Page Title: Recognition Program - CodiStars Content: The CodiStars awards program are awards from you for you - for people who stand out in the company in a special way. Thanks to it, you can appreciate people who actively represent the activities and thus deserve an award. Your voice has power, so we encourage you to get involved. Remember that the CodiStars program is for employees and associates only, therefore you cannot award titles to people who are no longer working at CodiLime. The awards are given in 3 categories that relate directly to our values: Team Up To Win - Team Player Disrupt category is Grow - Improver Act to Deliver category - Do-er category Below you will find a detailed description of each category: Team Player - a distinction for a person whose actions have positively influenced contacts between employees and the mood in teams. It can be organizing integration, helping a teammate, or engaging in additional activities such as volunteering. Improver - a distinction for a person whose actions improve internal processes in the company and the team. He often proposes various solutions to improve teamwork and the company itself. He can fix things in the project that don't work, or organize channels on slack. Do-er - a distinction for a person who delivers. He is someone who performs the tasks entrusted to him well and can save many fires in the project. He participates in the preparation of bottles, tech talks and webinars. He willingly shares his knowledge\""
      ]
     },
     "execution_count": 31,
     "metadata": {},
     "output_type": "execute_result"
    }
   ],
   "source": [
    "docs[0].page_content"
   ]
  },
  {
   "cell_type": "code",
   "execution_count": 25,
   "metadata": {},
   "outputs": [],
   "source": [
    "vectordb.persist()"
   ]
  },
  {
   "cell_type": "markdown",
   "metadata": {},
   "source": [
    "## 3. Question Answering - RetreivalQA"
   ]
  },
  {
   "cell_type": "markdown",
   "metadata": {},
   "source": [
    "![alternative text](obrazki/retreivalQA.png)\n"
   ]
  },
  {
   "cell_type": "code",
   "execution_count": 26,
   "metadata": {},
   "outputs": [],
   "source": [
    "from langchain.chains import RetrievalQA"
   ]
  },
  {
   "cell_type": "code",
   "execution_count": 27,
   "metadata": {},
   "outputs": [],
   "source": [
    "from typing import Dict, Any, List\n",
    "from langchain.callbacks.stdout import StdOutCallbackHandler\n",
    "\n",
    "class CustomStdOutCallbackHandler(StdOutCallbackHandler):\n",
    "    def on_llm_start(\n",
    "            self, serialized: Dict[str, Any], prompts: List[str], **kwargs: Any\n",
    "    ) -> None:\n",
    "        print(\"***\")\n",
    "        print(prompts)\n",
    "        print(\"***\")\n",
    "\n",
    "    def on_chain_start(\n",
    "            self, serialized: Dict[str, Any], inputs: Dict[str, Any], **kwargs: Any\n",
    "    ) -> None:\n",
    "        print(\"***\")\n",
    "        print(inputs)\n",
    "        print(\"***\")"
   ]
  },
  {
   "cell_type": "code",
   "execution_count": 28,
   "metadata": {},
   "outputs": [],
   "source": [
    "from langchain import HuggingFacePipeline\n",
    "\n",
    "llm = HuggingFacePipeline.from_model_id(\n",
    "    model_id=\"google/flan-t5-base\",\n",
    "    task=\"text2text-generation\",\n",
    "    model_kwargs={\"temperature\": 0, \"max_length\": 600},\n",
    "    callbacks=[CustomStdOutCallbackHandler()],\n",
    ")\n"
   ]
  },
  {
   "cell_type": "code",
   "execution_count": 29,
   "metadata": {},
   "outputs": [],
   "source": [
    "# prompt template\n",
    "from langchain import PromptTemplate\n",
    "\n",
    "template = \"\"\"\n",
    "Use provided context, otherwise do not make the answer up.\n",
    "{context}\n",
    "Question: {question}\n",
    "Answer:\"\"\"\n",
    "prompt = PromptTemplate(template=template, input_variables=[\"context\", \"question\"])\n",
    "\n",
    "\n",
    "chain_type_kwargs = {\"prompt\": prompt}"
   ]
  },
  {
   "cell_type": "code",
   "execution_count": 30,
   "metadata": {},
   "outputs": [],
   "source": [
    "qa = RetrievalQA.from_chain_type(\n",
    "        llm=llm, chain_type=\"stuff\", retriever=vectordb.as_retriever(),\n",
    "        return_source_documents=True, chain_type_kwargs=chain_type_kwargs, callbacks=[CustomStdOutCallbackHandler()])"
   ]
  },
  {
   "cell_type": "code",
   "execution_count": 31,
   "metadata": {},
   "outputs": [
    {
     "name": "stdout",
     "output_type": "stream",
     "text": [
      "***\n",
      "['Who is Katarzyna Hewelt?']\n",
      "***\n"
     ]
    },
    {
     "name": "stderr",
     "output_type": "stream",
     "text": [
      "/Users/katarzynahewelt/Desktop/chatbot/venv/lib/python3.11/site-packages/transformers/generation/utils.py:1255: UserWarning: You have modified the pretrained model configuration to control generation. This is a deprecated strategy to control generation and will be removed soon, in a future version. Please use a generation configuration file (see https://huggingface.co/docs/transformers/main_classes/text_generation)\n",
      "  warnings.warn(\n"
     ]
    },
    {
     "name": "stdout",
     "output_type": "stream",
     "text": [
      "generations=[[Generation(text='szczecin', generation_info=None)]] llm_output=None run=[RunInfo(run_id=UUID('1eb678b9-9f94-44be-89e3-37e63b6e9919'))]\n",
      "***\n",
      "{'query': 'Who is Katarzyna Hewelt?'}\n",
      "***\n"
     ]
    },
    {
     "name": "stderr",
     "output_type": "stream",
     "text": [
      "Token indices sequence length is longer than the specified maximum sequence length for this model (1644 > 512). Running this sequence through the model will result in indexing errors\n"
     ]
    },
    {
     "name": "stdout",
     "output_type": "stream",
     "text": [
      "***\n",
      "[\"\\nUse provided context, otherwise do not make the answer up.\\nPage Title: Employees Content: Katarzyna Hewelt - Junior Data Scientist\\n/   Tomasz Jedroska - Head of Unit: BU Data Engineering\\n/   Sebastina Pecio - Software Engineer\\n/   Maciej Manturewicz - Director of Engineering\\n/   Marek Niedzwiedz - CEO\\n\\nPage Title: Trip to Gdansk Content:Office Address GdanskOffice Address GdanskCodiLime Sp. z o.o.Olivia Four (Olivia Business Centre)Al. Grunwaldzka 472B room 2.12 (second floor)80-309 GdańskCodiLime Sp. z o.o.Olivia Four (Olivia Business Centre)Al. Grunwaldzka 472B p. 2.12 (second floor)80-309 GdańskRecommended hotelsRecommended hotelsThe list of hotels close to the office with a good reputation and availability is:Hotel OliviaSmart Hotel\\xa0B&B RatuszHotel OliwskiRailway station relatively close to the office: Gdańsk OliwaFor more information: Access to the office / Access to the office The list of hotels, close to the office with good reputation and availability are:Hotel OliviaSmart Hotel\\xa0B&B RatuszHotel OliwskiRailroad station relatively close to the office: Gdansk OliwaMore informations at: Access to the office\\n\\nPage Title: Trip to Warsaw Content: Iffice Address Warszawa Office Address WarszawaCodiLime Sp. z o.o. ul. Krańcowa 502-493 WarszawaCodiLime Sp. z o.o. ul. Krańcowa 502-493 WarszawaRecommended hotelsRecommended hotelsThe list of hotels close to the office with a good reputation and accessibility is: Ibis Buget Warszawa RedutaHotel Roko (close to the office)Hotel GordonB&B Warszawa OkęcieTravel by train - drop off at Warszawa Zachodnia stationTravel by car - hotel parking or temporary parking on the patio of the Codilime office ( in this case, it is necessary to submit an inquiry to help@codilime.com or ticket office) Travel by plane - public transport or taxi/uber to the office/hotel More information at: Reception The list of hotels, close to the office with good reputation and availability are:Ibis Buget Warszawa RedutaHotel Roko (close to the office)Hotel GordonB&B Warszawa OkęcieTravelling by train - getting off at Warszawa Zachodnia stationTravel by car - hotel parking or temporary parking on the patio of the office ra Codilime (in this case it is necessary to make an inquiry at help @codilime.com or ticket office)Air travel - public transportation or taxi/uber to office/hotelMore informations at: Reception\\n\\nrecognize individuals who actively represent activities and thus deserve to be rewarded. Your voice has power, so we encourage you to get involved. Remember that the CodiStars program is for employees only, so titles cannot be awarded to people who no longer work in CodiLime.Awards are given in 3 categories that relate directly to our values:Team Up To Win - the Team Player categoryDisrupt to Grow - the Improver category\\xa0Act to Deliver - the Do-er category\\xa0Below you will find detailed characteristics of each category:\\xa0Team Player - an award for a person whose actions have influenced/influenced positively the contact between employees and the mood in teams. This could be organizing integration, helping a teammate, or engaging in additional activities such as volunteering. Improver - honors a person whose actions improve the internal company and team processes. Often proposes various solutions to improve teamwork, as well as the company itself. They may correct things in the project that don't work, or organize channels on Slack. Do-er - a distinction for a person who delivers. This is someone who carries out the tasks assigned to him well and can save more than one fire in the project. They participate in the preparation of lightning talks, tech talks, or webinars. They are eager to share their knowledge with others. This year we are also changing the submission formula to make it easier for you to participate in the whole process. The formula was developed by the HR\\n\\nHelixDirector of EngineeringGithub CATDirector of EngineeringAWS HelixEngineering ManagerIT AdministrationNameOwnerAmazon Web ServicesHead of ITAtlassian (codilime.atlassian.net)Head of ITGitHubHead of ITGoogle Cloud PlatformHead of ITJetBrainsHead of ITSketchHead of IT101domainHead of ITOVHHead of ITCentral Register of Operators (air conditioning)Head of ITTelecubeHead of ITAAT HOLDINGHead of ITApple IDHead of ITAzureHead of ITBrother onlineHe ad of ITCertum AssecoHead of ITYouTubeHead of ITColfax DirectHead of ITJamfHead of ITFS.comHead of ITGoToMeetingHead of ITJuniper SupportHead of ITLinux MagazineHead of ITMicrosoft (Office, Azure, Visualstudio)Head of ITMouser ElectronixHead of ITnazwa.plHead of ITRocket.ChatHead of ITSli.doHead of ITSynologyHead of ITUbiquitiHead of ITVMwareHead of ITIB M CloudHead of ITAzureHead of ITNetlifyHead of ITClickmeetingHead of ITMiradoreHead of ITStreamYardHead of ITSlackHead of ITCloudflareHead of ITPollyHead of ITmongoDBHead of ITElectro.plHead of ITRAMTechHead of ITSnykHead of ITToDoBotHead of ITMekkoGraphicsHead of ITMarketingNameOwnerInstagramHead of MarketingSlideshareHead of MarketingSEMrushHead of MarketingGoogle AdsHead of MarketingGoogle Search ConsoleHead of MarketingGoo gle Tag managerHead of MarketingMailchimpHead of MarketingGoogle AnalyticsHead of MarketingLinkedInHead of MarketingMailChimpHead of MarketingMeetUpHead of MarketingTwilioHead of MarketingTwitterHead of MarketingHotjarHead of MarketingAsanaHead of\\nQuestion: Who is Katarzyna Hewelt?\\nAnswer:\"]\n",
      "***\n",
      "\n",
      "\u001B[1m> Finished chain.\u001B[0m\n",
      "\n",
      "\n",
      "> Question:\n",
      "Who is Katarzyna Hewelt?\n",
      "\n",
      "> Answer:\n",
      "Junior Data Scientist / Tomasz Jedroska - Head of Unit: BU Data Engineering / Sebastina Pecio - Software Engineer / Maciej Manturewicz - Director of Engineering / Marek Niedzwiedz - CEO\n"
     ]
    }
   ],
   "source": [
    "query = input(\"\\nEnter a query: \")\n",
    "print(llm.generate(prompts=[query]))\n",
    "res = qa(query)\n",
    "answer, docs = res['result'], res['source_documents']\n",
    "print(\"\\n\\n> Question:\")\n",
    "print(query)\n",
    "print(\"\\n> Answer:\")\n",
    "print(answer)"
   ]
  },
  {
   "cell_type": "code",
   "execution_count": null,
   "metadata": {},
   "outputs": [],
   "source": []
  }
 ],
 "metadata": {
  "kernelspec": {
   "display_name": "Python 3 (ipykernel)",
   "language": "python",
   "name": "python3"
  },
  "language_info": {
   "codemirror_mode": {
    "name": "ipython",
    "version": 3
   },
   "file_extension": ".py",
   "mimetype": "text/x-python",
   "name": "python",
   "nbconvert_exporter": "python",
   "pygments_lexer": "ipython3",
   "version": "3.9.6"
  }
 },
 "nbformat": 4,
 "nbformat_minor": 1
}
